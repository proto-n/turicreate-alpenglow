{
 "cells": [
  {
   "cell_type": "code",
   "execution_count": 1,
   "metadata": {
    "collapsed": false
   },
   "outputs": [
    {
     "name": "stdout",
     "output_type": "stream",
     "text": [
      "env: OMP_NUM_THREADS=10\n"
     ]
    }
   ],
   "source": [
    "%env OMP_NUM_THREADS=10"
   ]
  },
  {
   "cell_type": "code",
   "execution_count": 2,
   "metadata": {
    "collapsed": false
   },
   "outputs": [
    {
     "name": "stderr",
     "output_type": "stream",
     "text": [
      "/home/kdomokos/anaconda3/envs/py3/lib/python3.5/site-packages/h5py/__init__.py:34: FutureWarning: Conversion of the second argument of issubdtype from `float` to `np.floating` is deprecated. In future, it will be treated as `np.float64 == np.dtype(float).type`.\n",
      "  from ._conv import register_converters as _register_converters\n"
     ]
    }
   ],
   "source": [
    "%matplotlib inline\n",
    "import os\n",
    "import sys\n",
    "import pandas as pd\n",
    "import numpy as np\n",
    "import turicreate as tc"
   ]
  },
  {
   "cell_type": "code",
   "execution_count": 3,
   "metadata": {
    "collapsed": true
   },
   "outputs": [],
   "source": [
    "from alpenglow.experiments import ExternalModelExperiment\n",
    "from alpenglow.evaluation import DcgScore"
   ]
  },
  {
   "cell_type": "code",
   "execution_count": 4,
   "metadata": {
    "collapsed": true
   },
   "outputs": [],
   "source": [
    "i=40"
   ]
  },
  {
   "cell_type": "code",
   "execution_count": 5,
   "metadata": {
    "collapsed": true
   },
   "outputs": [],
   "source": [
    "batch = pd.read_csv(\"batches/batch_%d_train.dat\" % i)"
   ]
  },
  {
   "cell_type": "code",
   "execution_count": 6,
   "metadata": {
    "collapsed": true
   },
   "outputs": [],
   "source": [
    "test_users = pd.read_csv(\"batches/batch_%d_test.dat\" % i)"
   ]
  },
  {
   "cell_type": "code",
   "execution_count": 7,
   "metadata": {
    "collapsed": false
   },
   "outputs": [
    {
     "data": {
      "text/html": [
       "<pre>Recsys training: model = ranking_factorization_recommender</pre>"
      ],
      "text/plain": [
       "Recsys training: model = ranking_factorization_recommender"
      ]
     },
     "metadata": {},
     "output_type": "display_data"
    },
    {
     "data": {
      "text/html": [
       "<pre>Preparing data set.</pre>"
      ],
      "text/plain": [
       "Preparing data set."
      ]
     },
     "metadata": {},
     "output_type": "display_data"
    },
    {
     "data": {
      "text/html": [
       "<pre>    Data has 444492 observations with 36722 users and 43825 items.</pre>"
      ],
      "text/plain": [
       "    Data has 444492 observations with 36722 users and 43825 items."
      ]
     },
     "metadata": {},
     "output_type": "display_data"
    },
    {
     "data": {
      "text/html": [
       "<pre>    Data prepared in: 1.02828s</pre>"
      ],
      "text/plain": [
       "    Data prepared in: 1.02828s"
      ]
     },
     "metadata": {},
     "output_type": "display_data"
    },
    {
     "data": {
      "text/html": [
       "<pre>Training ranking_factorization_recommender for recommendations.</pre>"
      ],
      "text/plain": [
       "Training ranking_factorization_recommender for recommendations."
      ]
     },
     "metadata": {},
     "output_type": "display_data"
    },
    {
     "data": {
      "text/html": [
       "<pre>+------------------------------+--------------------------------------------------+----------+</pre>"
      ],
      "text/plain": [
       "+------------------------------+--------------------------------------------------+----------+"
      ]
     },
     "metadata": {},
     "output_type": "display_data"
    },
    {
     "data": {
      "text/html": [
       "<pre>| Parameter                    | Description                                      | Value    |</pre>"
      ],
      "text/plain": [
       "| Parameter                    | Description                                      | Value    |"
      ]
     },
     "metadata": {},
     "output_type": "display_data"
    },
    {
     "data": {
      "text/html": [
       "<pre>+------------------------------+--------------------------------------------------+----------+</pre>"
      ],
      "text/plain": [
       "+------------------------------+--------------------------------------------------+----------+"
      ]
     },
     "metadata": {},
     "output_type": "display_data"
    },
    {
     "data": {
      "text/html": [
       "<pre>| num_factors                  | Factor Dimension                                 | 10       |</pre>"
      ],
      "text/plain": [
       "| num_factors                  | Factor Dimension                                 | 10       |"
      ]
     },
     "metadata": {},
     "output_type": "display_data"
    },
    {
     "data": {
      "text/html": [
       "<pre>| regularization               | L2 Regularization on Factors                     | 1e-09    |</pre>"
      ],
      "text/plain": [
       "| regularization               | L2 Regularization on Factors                     | 1e-09    |"
      ]
     },
     "metadata": {},
     "output_type": "display_data"
    },
    {
     "data": {
      "text/html": [
       "<pre>| max_iterations               | Maximum Number of Iterations                     | 50       |</pre>"
      ],
      "text/plain": [
       "| max_iterations               | Maximum Number of Iterations                     | 50       |"
      ]
     },
     "metadata": {},
     "output_type": "display_data"
    },
    {
     "data": {
      "text/html": [
       "<pre>| solver                       | Solver used for training                         | ials     |</pre>"
      ],
      "text/plain": [
       "| solver                       | Solver used for training                         | ials     |"
      ]
     },
     "metadata": {},
     "output_type": "display_data"
    },
    {
     "data": {
      "text/html": [
       "<pre>+------------------------------+--------------------------------------------------+----------+</pre>"
      ],
      "text/plain": [
       "+------------------------------+--------------------------------------------------+----------+"
      ]
     },
     "metadata": {},
     "output_type": "display_data"
    },
    {
     "data": {
      "text/html": [
       "<pre>+---------+--------------+---------------------------+</pre>"
      ],
      "text/plain": [
       "+---------+--------------+---------------------------+"
      ]
     },
     "metadata": {},
     "output_type": "display_data"
    },
    {
     "data": {
      "text/html": [
       "<pre>| Iter.   | Elapsed time | Estimated Objective Value |</pre>"
      ],
      "text/plain": [
       "| Iter.   | Elapsed time | Estimated Objective Value |"
      ]
     },
     "metadata": {},
     "output_type": "display_data"
    },
    {
     "data": {
      "text/html": [
       "<pre>+---------+--------------+---------------------------+</pre>"
      ],
      "text/plain": [
       "+---------+--------------+---------------------------+"
      ]
     },
     "metadata": {},
     "output_type": "display_data"
    },
    {
     "data": {
      "text/html": [
       "<pre>| Initial | 97us         | NA                        |</pre>"
      ],
      "text/plain": [
       "| Initial | 97us         | NA                        |"
      ]
     },
     "metadata": {},
     "output_type": "display_data"
    },
    {
     "data": {
      "text/html": [
       "<pre>+---------+--------------+---------------------------+</pre>"
      ],
      "text/plain": [
       "+---------+--------------+---------------------------+"
      ]
     },
     "metadata": {},
     "output_type": "display_data"
    },
    {
     "data": {
      "text/html": [
       "<pre>| 0       | 4.34s        | 0.951508                  |</pre>"
      ],
      "text/plain": [
       "| 0       | 4.34s        | 0.951508                  |"
      ]
     },
     "metadata": {},
     "output_type": "display_data"
    },
    {
     "data": {
      "text/html": [
       "<pre>| 1       | 8.71s        | 0.864602                  |</pre>"
      ],
      "text/plain": [
       "| 1       | 8.71s        | 0.864602                  |"
      ]
     },
     "metadata": {},
     "output_type": "display_data"
    },
    {
     "data": {
      "text/html": [
       "<pre>| 2       | 13.19s       | 0.845382                  |</pre>"
      ],
      "text/plain": [
       "| 2       | 13.19s       | 0.845382                  |"
      ]
     },
     "metadata": {},
     "output_type": "display_data"
    },
    {
     "data": {
      "text/html": [
       "<pre>| 3       | 17.73s       | 0.83714                   |</pre>"
      ],
      "text/plain": [
       "| 3       | 17.73s       | 0.83714                   |"
      ]
     },
     "metadata": {},
     "output_type": "display_data"
    },
    {
     "data": {
      "text/html": [
       "<pre>| 4       | 22.58s       | 0.832631                  |</pre>"
      ],
      "text/plain": [
       "| 4       | 22.58s       | 0.832631                  |"
      ]
     },
     "metadata": {},
     "output_type": "display_data"
    },
    {
     "data": {
      "text/html": [
       "<pre>| 5       | 26.35s       | 0.830024                  |</pre>"
      ],
      "text/plain": [
       "| 5       | 26.35s       | 0.830024                  |"
      ]
     },
     "metadata": {},
     "output_type": "display_data"
    },
    {
     "data": {
      "text/html": [
       "<pre>| 6       | 30.87s       | 0.828538                  |</pre>"
      ],
      "text/plain": [
       "| 6       | 30.87s       | 0.828538                  |"
      ]
     },
     "metadata": {},
     "output_type": "display_data"
    },
    {
     "data": {
      "text/html": [
       "<pre>| 7       | 34.82s       | 0.827661                  |</pre>"
      ],
      "text/plain": [
       "| 7       | 34.82s       | 0.827661                  |"
      ]
     },
     "metadata": {},
     "output_type": "display_data"
    },
    {
     "data": {
      "text/html": [
       "<pre>| 8       | 39.67s       | 0.827115                  |</pre>"
      ],
      "text/plain": [
       "| 8       | 39.67s       | 0.827115                  |"
      ]
     },
     "metadata": {},
     "output_type": "display_data"
    },
    {
     "data": {
      "text/html": [
       "<pre>| 9       | 44.17s       | 0.826755                  |</pre>"
      ],
      "text/plain": [
       "| 9       | 44.17s       | 0.826755                  |"
      ]
     },
     "metadata": {},
     "output_type": "display_data"
    },
    {
     "data": {
      "text/html": [
       "<pre>| 10      | 49.00s       | 0.826506                  |</pre>"
      ],
      "text/plain": [
       "| 10      | 49.00s       | 0.826506                  |"
      ]
     },
     "metadata": {},
     "output_type": "display_data"
    },
    {
     "data": {
      "text/html": [
       "<pre>| 11      | 53.18s       | 0.826325                  |</pre>"
      ],
      "text/plain": [
       "| 11      | 53.18s       | 0.826325                  |"
      ]
     },
     "metadata": {},
     "output_type": "display_data"
    },
    {
     "data": {
      "text/html": [
       "<pre>| 12      | 57.64s       | 0.826189                  |</pre>"
      ],
      "text/plain": [
       "| 12      | 57.64s       | 0.826189                  |"
      ]
     },
     "metadata": {},
     "output_type": "display_data"
    },
    {
     "data": {
      "text/html": [
       "<pre>| 13      | 1m 2s        | 0.826084                  |</pre>"
      ],
      "text/plain": [
       "| 13      | 1m 2s        | 0.826084                  |"
      ]
     },
     "metadata": {},
     "output_type": "display_data"
    },
    {
     "data": {
      "text/html": [
       "<pre>| 14      | 1m 6s        | 0.826001                  |</pre>"
      ],
      "text/plain": [
       "| 14      | 1m 6s        | 0.826001                  |"
      ]
     },
     "metadata": {},
     "output_type": "display_data"
    },
    {
     "data": {
      "text/html": [
       "<pre>| 15      | 1m 9s        | 0.825933                  |</pre>"
      ],
      "text/plain": [
       "| 15      | 1m 9s        | 0.825933                  |"
      ]
     },
     "metadata": {},
     "output_type": "display_data"
    },
    {
     "data": {
      "text/html": [
       "<pre>| 16      | 1m 13s       | 0.825877                  |</pre>"
      ],
      "text/plain": [
       "| 16      | 1m 13s       | 0.825877                  |"
      ]
     },
     "metadata": {},
     "output_type": "display_data"
    },
    {
     "data": {
      "text/html": [
       "<pre>| 17      | 1m 17s       | 0.825829                  |</pre>"
      ],
      "text/plain": [
       "| 17      | 1m 17s       | 0.825829                  |"
      ]
     },
     "metadata": {},
     "output_type": "display_data"
    },
    {
     "data": {
      "text/html": [
       "<pre>| 18      | 1m 22s       | 0.825788                  |</pre>"
      ],
      "text/plain": [
       "| 18      | 1m 22s       | 0.825788                  |"
      ]
     },
     "metadata": {},
     "output_type": "display_data"
    },
    {
     "data": {
      "text/html": [
       "<pre>| 19      | 1m 25s       | 0.825752                  |</pre>"
      ],
      "text/plain": [
       "| 19      | 1m 25s       | 0.825752                  |"
      ]
     },
     "metadata": {},
     "output_type": "display_data"
    },
    {
     "data": {
      "text/html": [
       "<pre>| 20      | 1m 29s       | 0.82572                   |</pre>"
      ],
      "text/plain": [
       "| 20      | 1m 29s       | 0.82572                   |"
      ]
     },
     "metadata": {},
     "output_type": "display_data"
    },
    {
     "data": {
      "text/html": [
       "<pre>| 21      | 1m 34s       | 0.825691                  |</pre>"
      ],
      "text/plain": [
       "| 21      | 1m 34s       | 0.825691                  |"
      ]
     },
     "metadata": {},
     "output_type": "display_data"
    },
    {
     "data": {
      "text/html": [
       "<pre>| 22      | 1m 39s       | 0.825665                  |</pre>"
      ],
      "text/plain": [
       "| 22      | 1m 39s       | 0.825665                  |"
      ]
     },
     "metadata": {},
     "output_type": "display_data"
    },
    {
     "data": {
      "text/html": [
       "<pre>| 23      | 1m 44s       | 0.825641                  |</pre>"
      ],
      "text/plain": [
       "| 23      | 1m 44s       | 0.825641                  |"
      ]
     },
     "metadata": {},
     "output_type": "display_data"
    },
    {
     "data": {
      "text/html": [
       "<pre>| 24      | 1m 48s       | 0.825619                  |</pre>"
      ],
      "text/plain": [
       "| 24      | 1m 48s       | 0.825619                  |"
      ]
     },
     "metadata": {},
     "output_type": "display_data"
    },
    {
     "data": {
      "text/html": [
       "<pre>| 25      | 1m 52s       | 0.825598                  |</pre>"
      ],
      "text/plain": [
       "| 25      | 1m 52s       | 0.825598                  |"
      ]
     },
     "metadata": {},
     "output_type": "display_data"
    },
    {
     "data": {
      "text/html": [
       "<pre>| 26      | 1m 57s       | 0.825579                  |</pre>"
      ],
      "text/plain": [
       "| 26      | 1m 57s       | 0.825579                  |"
      ]
     },
     "metadata": {},
     "output_type": "display_data"
    },
    {
     "data": {
      "text/html": [
       "<pre>| 27      | 2m 2s        | 0.825562                  |</pre>"
      ],
      "text/plain": [
       "| 27      | 2m 2s        | 0.825562                  |"
      ]
     },
     "metadata": {},
     "output_type": "display_data"
    },
    {
     "data": {
      "text/html": [
       "<pre>| 28      | 2m 6s        | 0.825545                  |</pre>"
      ],
      "text/plain": [
       "| 28      | 2m 6s        | 0.825545                  |"
      ]
     },
     "metadata": {},
     "output_type": "display_data"
    },
    {
     "data": {
      "text/html": [
       "<pre>| 29      | 2m 11s       | 0.825531                  |</pre>"
      ],
      "text/plain": [
       "| 29      | 2m 11s       | 0.825531                  |"
      ]
     },
     "metadata": {},
     "output_type": "display_data"
    },
    {
     "data": {
      "text/html": [
       "<pre>| 30      | 2m 15s       | 0.825517                  |</pre>"
      ],
      "text/plain": [
       "| 30      | 2m 15s       | 0.825517                  |"
      ]
     },
     "metadata": {},
     "output_type": "display_data"
    },
    {
     "data": {
      "text/html": [
       "<pre>| 31      | 2m 19s       | 0.825504                  |</pre>"
      ],
      "text/plain": [
       "| 31      | 2m 19s       | 0.825504                  |"
      ]
     },
     "metadata": {},
     "output_type": "display_data"
    },
    {
     "data": {
      "text/html": [
       "<pre>| 32      | 2m 23s       | 0.825493                  |</pre>"
      ],
      "text/plain": [
       "| 32      | 2m 23s       | 0.825493                  |"
      ]
     },
     "metadata": {},
     "output_type": "display_data"
    },
    {
     "data": {
      "text/html": [
       "<pre>| 33      | 2m 28s       | 0.825482                  |</pre>"
      ],
      "text/plain": [
       "| 33      | 2m 28s       | 0.825482                  |"
      ]
     },
     "metadata": {},
     "output_type": "display_data"
    },
    {
     "data": {
      "text/html": [
       "<pre>| 34      | 2m 31s       | 0.825471                  |</pre>"
      ],
      "text/plain": [
       "| 34      | 2m 31s       | 0.825471                  |"
      ]
     },
     "metadata": {},
     "output_type": "display_data"
    },
    {
     "data": {
      "text/html": [
       "<pre>| 35      | 2m 36s       | 0.825462                  |</pre>"
      ],
      "text/plain": [
       "| 35      | 2m 36s       | 0.825462                  |"
      ]
     },
     "metadata": {},
     "output_type": "display_data"
    },
    {
     "data": {
      "text/html": [
       "<pre>| 36      | 2m 41s       | 0.825452                  |</pre>"
      ],
      "text/plain": [
       "| 36      | 2m 41s       | 0.825452                  |"
      ]
     },
     "metadata": {},
     "output_type": "display_data"
    },
    {
     "data": {
      "text/html": [
       "<pre>| 37      | 2m 45s       | 0.825443                  |</pre>"
      ],
      "text/plain": [
       "| 37      | 2m 45s       | 0.825443                  |"
      ]
     },
     "metadata": {},
     "output_type": "display_data"
    },
    {
     "data": {
      "text/html": [
       "<pre>| 38      | 2m 49s       | 0.825433                  |</pre>"
      ],
      "text/plain": [
       "| 38      | 2m 49s       | 0.825433                  |"
      ]
     },
     "metadata": {},
     "output_type": "display_data"
    },
    {
     "data": {
      "text/html": [
       "<pre>| 39      | 2m 53s       | 0.825424                  |</pre>"
      ],
      "text/plain": [
       "| 39      | 2m 53s       | 0.825424                  |"
      ]
     },
     "metadata": {},
     "output_type": "display_data"
    },
    {
     "data": {
      "text/html": [
       "<pre>| 40      | 2m 57s       | 0.825414                  |</pre>"
      ],
      "text/plain": [
       "| 40      | 2m 57s       | 0.825414                  |"
      ]
     },
     "metadata": {},
     "output_type": "display_data"
    },
    {
     "data": {
      "text/html": [
       "<pre>| 41      | 3m 2s        | 0.825404                  |</pre>"
      ],
      "text/plain": [
       "| 41      | 3m 2s        | 0.825404                  |"
      ]
     },
     "metadata": {},
     "output_type": "display_data"
    },
    {
     "data": {
      "text/html": [
       "<pre>| 42      | 3m 6s        | 0.825394                  |</pre>"
      ],
      "text/plain": [
       "| 42      | 3m 6s        | 0.825394                  |"
      ]
     },
     "metadata": {},
     "output_type": "display_data"
    },
    {
     "data": {
      "text/html": [
       "<pre>| 43      | 3m 10s       | 0.825384                  |</pre>"
      ],
      "text/plain": [
       "| 43      | 3m 10s       | 0.825384                  |"
      ]
     },
     "metadata": {},
     "output_type": "display_data"
    },
    {
     "data": {
      "text/html": [
       "<pre>| 44      | 3m 14s       | 0.825373                  |</pre>"
      ],
      "text/plain": [
       "| 44      | 3m 14s       | 0.825373                  |"
      ]
     },
     "metadata": {},
     "output_type": "display_data"
    },
    {
     "data": {
      "text/html": [
       "<pre>| 45      | 3m 18s       | 0.825362                  |</pre>"
      ],
      "text/plain": [
       "| 45      | 3m 18s       | 0.825362                  |"
      ]
     },
     "metadata": {},
     "output_type": "display_data"
    },
    {
     "data": {
      "text/html": [
       "<pre>| 46      | 3m 22s       | 0.825351                  |</pre>"
      ],
      "text/plain": [
       "| 46      | 3m 22s       | 0.825351                  |"
      ]
     },
     "metadata": {},
     "output_type": "display_data"
    },
    {
     "data": {
      "text/html": [
       "<pre>| 47      | 3m 26s       | 0.825339                  |</pre>"
      ],
      "text/plain": [
       "| 47      | 3m 26s       | 0.825339                  |"
      ]
     },
     "metadata": {},
     "output_type": "display_data"
    },
    {
     "data": {
      "text/html": [
       "<pre>| 48      | 3m 31s       | 0.825328                  |</pre>"
      ],
      "text/plain": [
       "| 48      | 3m 31s       | 0.825328                  |"
      ]
     },
     "metadata": {},
     "output_type": "display_data"
    },
    {
     "data": {
      "text/html": [
       "<pre>| 49      | 3m 35s       | 0.825316                  |</pre>"
      ],
      "text/plain": [
       "| 49      | 3m 35s       | 0.825316                  |"
      ]
     },
     "metadata": {},
     "output_type": "display_data"
    },
    {
     "data": {
      "text/html": [
       "<pre>| FINAL   | 3m 35s       | 0.825316                  |</pre>"
      ],
      "text/plain": [
       "| FINAL   | 3m 35s       | 0.825316                  |"
      ]
     },
     "metadata": {},
     "output_type": "display_data"
    },
    {
     "data": {
      "text/html": [
       "<pre>+---------+--------------+---------------------------+</pre>"
      ],
      "text/plain": [
       "+---------+--------------+---------------------------+"
      ]
     },
     "metadata": {},
     "output_type": "display_data"
    },
    {
     "data": {
      "text/html": [
       "<pre>Optimization Complete: Iteration limit reached.</pre>"
      ],
      "text/plain": [
       "Optimization Complete: Iteration limit reached."
      ]
     },
     "metadata": {},
     "output_type": "display_data"
    },
    {
     "data": {
      "text/html": [
       "<pre>recommendations finished on 1000/5206 queries. users per second: 2131.43</pre>"
      ],
      "text/plain": [
       "recommendations finished on 1000/5206 queries. users per second: 2131.43"
      ]
     },
     "metadata": {},
     "output_type": "display_data"
    },
    {
     "data": {
      "text/html": [
       "<pre>recommendations finished on 2000/5206 queries. users per second: 2125.76</pre>"
      ],
      "text/plain": [
       "recommendations finished on 2000/5206 queries. users per second: 2125.76"
      ]
     },
     "metadata": {},
     "output_type": "display_data"
    },
    {
     "data": {
      "text/html": [
       "<pre>recommendations finished on 3000/5206 queries. users per second: 2071.96</pre>"
      ],
      "text/plain": [
       "recommendations finished on 3000/5206 queries. users per second: 2071.96"
      ]
     },
     "metadata": {},
     "output_type": "display_data"
    },
    {
     "data": {
      "text/html": [
       "<pre>recommendations finished on 4000/5206 queries. users per second: 2046.95</pre>"
      ],
      "text/plain": [
       "recommendations finished on 4000/5206 queries. users per second: 2046.95"
      ]
     },
     "metadata": {},
     "output_type": "display_data"
    },
    {
     "data": {
      "text/html": [
       "<pre>recommendations finished on 5000/5206 queries. users per second: 1961.63</pre>"
      ],
      "text/plain": [
       "recommendations finished on 5000/5206 queries. users per second: 1961.63"
      ]
     },
     "metadata": {},
     "output_type": "display_data"
    }
   ],
   "source": [
    "model = tc.ranking_factorization_recommender.create(\n",
    "    tc.SFrame(batch),\n",
    "    'user',\n",
    "    'item',\n",
    "    num_factors=10,\n",
    "    verbose=True,\n",
    "    solver='ials',\n",
    "    max_iterations=50,\n",
    "    ials_confidence_scaling_factor=20\n",
    ")\n",
    "results = model.recommend(users=test_users.user.values, k=100, exclude_known=True)"
   ]
  },
  {
   "cell_type": "code",
   "execution_count": 8,
   "metadata": {
    "collapsed": false
   },
   "outputs": [],
   "source": [
    "results.to_dataframe()[['user','item','rank']].to_csv('batches/batch_%d_predictions.dat' % i, sep=' ', header=False)"
   ]
  },
  {
   "cell_type": "code",
   "execution_count": 9,
   "metadata": {
    "collapsed": false
   },
   "outputs": [],
   "source": [
    "data = pd.read_csv('../tutorial_data/data.csv', header=None, names=['time', 'user', 'item'])\n",
    "\n",
    "exp = ExternalModelExperiment(\n",
    "    period_length=60 * 60 * 24 * 7,\n",
    "    in_name_base=\"batches/batch\",\n",
    "    mode=\"read\",\n",
    ")"
   ]
  },
  {
   "cell_type": "code",
   "execution_count": 10,
   "metadata": {
    "collapsed": false
   },
   "outputs": [
    {
     "name": "stdout",
     "output_type": "stream",
     "text": [
      "running experiment...\n"
     ]
    }
   ],
   "source": [
    "res = exp.run(data)"
   ]
  },
  {
   "cell_type": "code",
   "execution_count": 11,
   "metadata": {
    "collapsed": false
   },
   "outputs": [],
   "source": [
    "res['dcg'] = DcgScore(res)"
   ]
  },
  {
   "cell_type": "code",
   "execution_count": 12,
   "metadata": {
    "collapsed": false
   },
   "outputs": [
    {
     "data": {
      "text/plain": [
       "0.014344115488999583"
      ]
     },
     "execution_count": 12,
     "metadata": {},
     "output_type": "execute_result"
    }
   ],
   "source": [
    "res['dcg'].groupby(res['time']//(7*24*60*60)).mean()[2338.0]"
   ]
  },
  {
   "cell_type": "code",
   "execution_count": null,
   "metadata": {
    "collapsed": true
   },
   "outputs": [],
   "source": []
  }
 ],
 "metadata": {
  "kernelspec": {
   "display_name": "Python 3",
   "language": "python",
   "name": "python3"
  },
  "language_info": {
   "codemirror_mode": {
    "name": "ipython",
    "version": 3
   },
   "file_extension": ".py",
   "mimetype": "text/x-python",
   "name": "python",
   "nbconvert_exporter": "python",
   "pygments_lexer": "ipython3",
   "version": "3.5.2"
  }
 },
 "nbformat": 4,
 "nbformat_minor": 2
}
